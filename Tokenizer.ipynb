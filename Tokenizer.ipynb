{
  "nbformat": 4,
  "nbformat_minor": 0,
  "metadata": {
    "colab": {
      "provenance": [],
      "authorship_tag": "ABX9TyMkXEoRZt8IO96t2epw7p9Z",
      "include_colab_link": true
    },
    "kernelspec": {
      "name": "python3",
      "display_name": "Python 3"
    },
    "language_info": {
      "name": "python"
    }
  },
  "cells": [
    {
      "cell_type": "markdown",
      "metadata": {
        "id": "view-in-github",
        "colab_type": "text"
      },
      "source": [
        "<a href=\"https://colab.research.google.com/github/sanjitsaluja/llm-experiments/blob/main/Tokenizer.ipynb\" target=\"_parent\"><img src=\"https://colab.research.google.com/assets/colab-badge.svg\" alt=\"Open In Colab\"/></a>"
      ]
    },
    {
      "cell_type": "code",
      "execution_count": 4,
      "metadata": {
        "colab": {
          "base_uri": "https://localhost:8080/"
        },
        "id": "m_QC6N_x-04Q",
        "outputId": "eb9134e7-5c63-4d66-9393-a65d3ab2ba7c"
      },
      "outputs": [
        {
          "output_type": "stream",
          "name": "stdout",
          "text": [
            "Tokens: ['Terminal', 'Ġwindows', 'Ġare', 'Ġshown', 'Ġin', 'Ġthe', 'ĠURL', 'Ġ-', 'Ġhttps', '://', 'col', 'ab', '.re', 'search', '.google', '.com', '/dr', 'ive', '/', '1', 'J', 'Wr', '4', '-X', 'adm', 'N', '7', 'vu', 'Q', 'd', 'hw', 'C', 'f', '4', 'uf', 'Ob', 'SR', '_m', '2', 'mq', 'm', '#', 'scroll', 'To', '=m', '_Q', 'C', '6', 'N', '_x', '-', '0', '4', 'Q']\n",
            "Token IDs: [47890, 11030, 525, 6839, 304, 279, 5548, 481, 3703, 1110, 2074, 370, 1327, 1836, 5713, 905, 48054, 533, 14, 16, 41, 35214, 19, 30550, 46929, 45, 22, 45690, 48, 67, 27827, 34, 69, 19, 1704, 4121, 14557, 717, 17, 27674, 76, 2, 12605, 1249, 27221, 13337, 34, 21, 45, 3212, 12, 15, 19, 48]\n",
            "Decoded: Terminal windows are shown in the URL - https://colab.research.google.com/drive/1JWr4-XadmN7vuQdhwCf4ufObSR_m2mqm#scrollTo=m_QC6N_x-04Q\n"
          ]
        }
      ],
      "source": [
        "from transformers import AutoTokenizer\n",
        "\n",
        "tokenizer = AutoTokenizer.from_pretrained(\"Qwen/Qwen3-4B-Base\")\n",
        "\n",
        "text = \"Terminal windows are shown in the URL - https://colab.research.google.com/drive/1JWr4-XadmN7vuQdhwCf4ufObSR_m2mqm#scrollTo=m_QC6N_x-04Q\"\n",
        "\n",
        "# Step 1: Text to tokens (pieces)\n",
        "tokens = tokenizer.tokenize(text)\n",
        "print(f\"Tokens: {tokens}\")\n",
        "\n",
        "# Step 2: Tokens to numbers\n",
        "token_ids = tokenizer.encode(text)\n",
        "print(f\"Token IDs: {token_ids}\")\n",
        "\n",
        "# Step 3: Numbers back to text (to verify)\n",
        "decoded = tokenizer.decode(token_ids)\n",
        "print(f\"Decoded: {decoded}\")"
      ]
    },
    {
      "cell_type": "code",
      "source": [],
      "metadata": {
        "id": "lwGL1Epr-2Jf"
      },
      "execution_count": null,
      "outputs": []
    }
  ]
}